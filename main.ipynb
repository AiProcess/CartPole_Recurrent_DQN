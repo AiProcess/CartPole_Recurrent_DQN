{
  "cells": [
    {
      "cell_type": "code",
      "source": [
        "!pip install torchrl"
      ],
      "metadata": {
        "id": "sY5ZDByzsRhm"
      },
      "execution_count": null,
      "outputs": []
    },
    {
      "cell_type": "markdown",
      "metadata": {
        "id": "OzWmttSasFVA"
      },
      "source": [
        "# Importing libraries"
      ]
    },
    {
      "cell_type": "code",
      "execution_count": 3,
      "metadata": {
        "id": "KRois1E8sFVC"
      },
      "outputs": [],
      "source": [
        "import torch\n",
        "from torch import nn\n",
        "from torchrl.envs import (\n",
        "    GymEnv,\n",
        "    Compose,\n",
        "    TransformedEnv,\n",
        "    ToTensorImage,\n",
        "    GrayScale,\n",
        "    StepCounter,\n",
        "    Resize,\n",
        "    InitTracker,\n",
        "    RewardScaling,\n",
        "    ObservationNorm,\n",
        "    set_exploration_type,\n",
        "    ExplorationType\n",
        ")\n",
        "from tensordict.nn import TensorDictModule, TensorDictSequential\n",
        "import matplotlib.pyplot as plt\n",
        "from torchrl.modules import ConvNet, EGreedyModule, LSTMModule, MLP, QValueModule\n",
        "from torchrl.objectives import DQNLoss, SoftUpdate\n",
        "from torchrl.data import LazyMemmapStorage, TensorDictReplayBuffer\n",
        "from torchrl.collectors import SyncDataCollector\n",
        "\n",
        "import tqdm"
      ]
    },
    {
      "cell_type": "code",
      "execution_count": 4,
      "metadata": {
        "id": "vKWLk3X8sFVD",
        "outputId": "2036e04d-b7c8-4a8c-960a-2549c3ebe5d8",
        "colab": {
          "base_uri": "https://localhost:8080/"
        }
      },
      "outputs": [
        {
          "output_type": "stream",
          "name": "stdout",
          "text": [
            "Selected device is cuda\n"
          ]
        },
        {
          "output_type": "stream",
          "name": "stderr",
          "text": [
            "/usr/local/lib/python3.10/dist-packages/ipykernel/ipkernel.py:283: DeprecationWarning: `should_run_async` will not call `transform_cell` automatically in the future. Please pass the result to `transformed_cell` argument and any exception that happen during thetransform in `preprocessing_exc_tuple` in IPython 7.17 and above.\n",
            "  and should_run_async(code)\n"
          ]
        }
      ],
      "source": [
        "device = 'cuda' if torch.cuda.is_available() else 'cpu'\n",
        "print(f'Selected device is {device}')"
      ]
    },
    {
      "cell_type": "markdown",
      "metadata": {
        "id": "xN2R3g4VsFVE"
      },
      "source": [
        "# Environment"
      ]
    },
    {
      "cell_type": "code",
      "execution_count": 5,
      "metadata": {
        "id": "o3sTROSEsFVE",
        "outputId": "843f736e-afe2-4853-b180-954fbb721a9e",
        "colab": {
          "base_uri": "https://localhost:8080/"
        }
      },
      "outputs": [
        {
          "output_type": "stream",
          "name": "stderr",
          "text": [
            "/usr/local/lib/python3.10/dist-packages/pygame/pkgdata.py:25: DeprecationWarning: pkg_resources is deprecated as an API. See https://setuptools.pypa.io/en/latest/pkg_resources.html\n",
            "  from pkg_resources import resource_stream, resource_exists\n",
            "/usr/local/lib/python3.10/dist-packages/pkg_resources/__init__.py:3154: DeprecationWarning: Deprecated call to `pkg_resources.declare_namespace('google')`.\n",
            "Implementing implicit namespace packages (as specified in PEP 420) is preferred to `pkg_resources.declare_namespace`. See https://setuptools.pypa.io/en/latest/references/keywords.html#keyword-namespace-packages\n",
            "  declare_namespace(pkg)\n",
            "/usr/local/lib/python3.10/dist-packages/pkg_resources/__init__.py:3154: DeprecationWarning: Deprecated call to `pkg_resources.declare_namespace('google.cloud')`.\n",
            "Implementing implicit namespace packages (as specified in PEP 420) is preferred to `pkg_resources.declare_namespace`. See https://setuptools.pypa.io/en/latest/references/keywords.html#keyword-namespace-packages\n",
            "  declare_namespace(pkg)\n",
            "/usr/local/lib/python3.10/dist-packages/pkg_resources/__init__.py:3154: DeprecationWarning: Deprecated call to `pkg_resources.declare_namespace('sphinxcontrib')`.\n",
            "Implementing implicit namespace packages (as specified in PEP 420) is preferred to `pkg_resources.declare_namespace`. See https://setuptools.pypa.io/en/latest/references/keywords.html#keyword-namespace-packages\n",
            "  declare_namespace(pkg)\n"
          ]
        }
      ],
      "source": [
        "base_env = GymEnv(\n",
        "    env_name='CartPole-v1',\n",
        "    from_pixels=True,\n",
        "    pixels_only=False,\n",
        "    device=device\n",
        ")\n",
        "env = TransformedEnv(\n",
        "    env=base_env,\n",
        "    transform=Compose(\n",
        "        ToTensorImage(),\n",
        "        GrayScale(),\n",
        "        Resize(84,84),\n",
        "        StepCounter(),\n",
        "        InitTracker(),\n",
        "        RewardScaling(loc=0.0, scale=0.1),\n",
        "        ObservationNorm(standard_normal=True, in_keys=['pixels'])\n",
        "    )\n",
        ")\n",
        "env.transform[-1].init_stats(1000, reduce_dim=[0, 1, 2], cat_dim=0, keep_dims=[0])"
      ]
    },
    {
      "cell_type": "code",
      "execution_count": 8,
      "metadata": {
        "id": "d8OzUzWwsFVE",
        "outputId": "66033a5f-5adb-4b7d-c5d8-9e1560e8a0f4",
        "colab": {
          "base_uri": "https://localhost:8080/",
          "height": 450
        }
      },
      "outputs": [
        {
          "output_type": "execute_result",
          "data": {
            "text/plain": [
              "<matplotlib.image.AxesImage at 0x7cf8289929e0>"
            ]
          },
          "metadata": {},
          "execution_count": 8
        },
        {
          "output_type": "display_data",
          "data": {
            "text/plain": [
              "<Figure size 640x480 with 1 Axes>"
            ],
            "image/png": "[encoded data removed]"
          },
          "metadata": {}
        }
      ],
      "source": [
        "td = env.reset()\n",
        "plt.imshow(td['pixels'].cpu().squeeze())"
      ]
    },
    {
      "cell_type": "markdown",
      "metadata": {
        "id": "O_TZVecJsFVE"
      },
      "source": [
        "# Agent"
      ]
    },
    {
      "cell_type": "code",
      "execution_count": 9,
      "metadata": {
        "id": "acQQuUQOsFVF"
      },
      "outputs": [],
      "source": [
        "feature = TensorDictModule(\n",
        "    ConvNet(\n",
        "        num_cells=[32, 32, 64],\n",
        "        squeeze_output=True,\n",
        "        aggregator_class=nn.AdaptiveAvgPool2d,\n",
        "        aggregator_kwargs={\"output_size\": (1, 1)},\n",
        "        device=device,\n",
        "    ),\n",
        "    in_keys=[\"pixels\"],\n",
        "    out_keys=[\"embed\"],\n",
        ")"
      ]
    },
    {
      "cell_type": "code",
      "execution_count": 10,
      "metadata": {
        "id": "_aUF77KwsFVF"
      },
      "outputs": [],
      "source": [
        "n_cells = feature(env.reset())['embed'].shape[-1]"
      ]
    },
    {
      "cell_type": "code",
      "execution_count": 11,
      "metadata": {
        "id": "nFpf2bTHsFVF"
      },
      "outputs": [],
      "source": [
        "lstm = LSTMModule(\n",
        "    input_size=n_cells,\n",
        "    hidden_size=128,\n",
        "    device=device,\n",
        "    in_key='embed',\n",
        "    out_key='embed'\n",
        ")"
      ]
    },
    {
      "cell_type": "code",
      "execution_count": 12,
      "metadata": {
        "id": "UXnxH22rsFVF",
        "outputId": "03c1f539-a673-404d-f23a-271328f88280",
        "colab": {
          "base_uri": "https://localhost:8080/"
        }
      },
      "outputs": [
        {
          "output_type": "stream",
          "name": "stdout",
          "text": [
            "in_keys: \n"
          ]
        },
        {
          "output_type": "execute_result",
          "data": {
            "text/plain": [
              "(None, ['embed', ('next', 'recurrent_state_h'), ('next', 'recurrent_state_c')])"
            ]
          },
          "metadata": {},
          "execution_count": 12
        }
      ],
      "source": [
        "print('in_keys: '), lstm.out_keys"
      ]
    },
    {
      "cell_type": "code",
      "execution_count": 13,
      "metadata": {
        "id": "AEuMjRtjsFVG",
        "outputId": "a3e3877a-ea88-496a-8e8e-cdf1ce57b1f4",
        "colab": {
          "base_uri": "https://localhost:8080/"
        }
      },
      "outputs": [
        {
          "output_type": "execute_result",
          "data": {
            "text/plain": [
              "TransformedEnv(\n",
              "    env=GymEnv(env=CartPole-v1, batch_size=torch.Size([]), device=cuda:0),\n",
              "    transform=Compose(\n",
              "            ToTensorImage(keys=['pixels']),\n",
              "            GrayScale(keys=['pixels']),\n",
              "            Resize(w=84, h=84, interpolation=InterpolationMode.BILINEAR, keys=['pixels']),\n",
              "            StepCounter(keys=[]),\n",
              "            InitTracker(keys=[]),\n",
              "            RewardScaling(loc=0.0000, scale=0.1000, keys=['reward']),\n",
              "            ObservationNorm(keys=['pixels']),\n",
              "            TensorDictPrimer(primers=Composite(\n",
              "                recurrent_state_h: UnboundedContinuous(\n",
              "                    shape=torch.Size([1, 128]),\n",
              "                    space=ContinuousBox(\n",
              "                        low=Tensor(shape=torch.Size([1, 128]), device=cuda:0, dtype=torch.float32, contiguous=True),\n",
              "                        high=Tensor(shape=torch.Size([1, 128]), device=cuda:0, dtype=torch.float32, contiguous=True)),\n",
              "                    device=cuda:0,\n",
              "                    dtype=torch.float32,\n",
              "                    domain=continuous),\n",
              "                recurrent_state_c: UnboundedContinuous(\n",
              "                    shape=torch.Size([1, 128]),\n",
              "                    space=ContinuousBox(\n",
              "                        low=Tensor(shape=torch.Size([1, 128]), device=cuda:0, dtype=torch.float32, contiguous=True),\n",
              "                        high=Tensor(shape=torch.Size([1, 128]), device=cuda:0, dtype=torch.float32, contiguous=True)),\n",
              "                    device=cuda:0,\n",
              "                    dtype=torch.float32,\n",
              "                    domain=continuous),\n",
              "                device=cuda:0,\n",
              "                shape=torch.Size([])), default_value={'recurrent_state_h': 0.0, 'recurrent_state_c': 0.0}, random=None)))"
            ]
          },
          "metadata": {},
          "execution_count": 13
        }
      ],
      "source": [
        "env.append_transform(lstm.make_tensordict_primer())"
      ]
    },
    {
      "cell_type": "code",
      "execution_count": 14,
      "metadata": {
        "id": "LnL3epiWsFVG"
      },
      "outputs": [],
      "source": [
        "mlp = MLP(\n",
        "    out_features=2,\n",
        "    num_cells=[64,],\n",
        "    device=device\n",
        ")"
      ]
    },
    {
      "cell_type": "code",
      "execution_count": 15,
      "metadata": {
        "id": "Brgj84ZssFVG",
        "outputId": "4baf32df-818d-438a-c712-473aeb43cd15",
        "colab": {
          "base_uri": "https://localhost:8080/"
        }
      },
      "outputs": [
        {
          "output_type": "execute_result",
          "data": {
            "text/plain": [
              "tensor([0., 0.], device='cuda:0')"
            ]
          },
          "metadata": {},
          "execution_count": 15
        }
      ],
      "source": [
        "mlp[-1].bias.data.fill_(0.0)"
      ]
    },
    {
      "cell_type": "code",
      "execution_count": 16,
      "metadata": {
        "id": "QCP8pV-ysFVH"
      },
      "outputs": [],
      "source": [
        "mlp = TensorDictModule(\n",
        "    module=mlp,\n",
        "    in_keys=['embed'],\n",
        "    out_keys=['action_value']\n",
        ")"
      ]
    },
    {
      "cell_type": "code",
      "execution_count": 17,
      "metadata": {
        "id": "0AojmFbhsFVH",
        "outputId": "f2ec87da-e120-4728-d998-a08d764c8f0d",
        "colab": {
          "base_uri": "https://localhost:8080/"
        }
      },
      "outputs": [
        {
          "output_type": "execute_result",
          "data": {
            "text/plain": [
              "TensorDictModule(\n",
              "    module=MLP(\n",
              "      (0): LazyLinear(in_features=0, out_features=64, bias=True)\n",
              "      (1): Tanh()\n",
              "      (2): Linear(in_features=64, out_features=2, bias=True)\n",
              "    ),\n",
              "    device=cuda:0,\n",
              "    in_keys=['embed'],\n",
              "    out_keys=['action_value'])"
            ]
          },
          "metadata": {},
          "execution_count": 17
        }
      ],
      "source": [
        "mlp"
      ]
    },
    {
      "cell_type": "code",
      "execution_count": 18,
      "metadata": {
        "id": "iOC1tAunsFVH"
      },
      "outputs": [],
      "source": [
        "qval = QValueModule(action_space=None, spec=env.action_spec)"
      ]
    },
    {
      "cell_type": "code",
      "execution_count": 19,
      "metadata": {
        "id": "p5z1DmhgsFVH"
      },
      "outputs": [],
      "source": [
        "stoch_policy = TensorDictSequential(feature, lstm, mlp, qval)"
      ]
    },
    {
      "cell_type": "code",
      "execution_count": 20,
      "metadata": {
        "id": "pPssu5OwsFVH"
      },
      "outputs": [],
      "source": [
        "exploration_module = EGreedyModule(\n",
        "    annealing_num_steps=1_000_000, spec=env.action_spec, eps_init=0.2\n",
        ")\n",
        "stoch_policy = TensorDictSequential(\n",
        "    stoch_policy,\n",
        "    exploration_module,\n",
        ")"
      ]
    },
    {
      "cell_type": "code",
      "execution_count": 21,
      "metadata": {
        "id": "qL6Vv-1BsFVI"
      },
      "outputs": [],
      "source": [
        "policy = TensorDictSequential(feature, lstm.set_recurrent_mode(True), mlp, qval)"
      ]
    },
    {
      "cell_type": "code",
      "execution_count": 22,
      "metadata": {
        "id": "beDxbtoVsFVI",
        "outputId": "73aced7e-a4b5-47d1-9045-609283b3320a",
        "colab": {
          "base_uri": "https://localhost:8080/"
        }
      },
      "outputs": [
        {
          "output_type": "execute_result",
          "data": {
            "text/plain": [
              "TensorDict(\n",
              "    fields={\n",
              "        action: Tensor(shape=torch.Size([2]), device=cuda:0, dtype=torch.int64, is_shared=True),\n",
              "        action_value: Tensor(shape=torch.Size([2]), device=cuda:0, dtype=torch.float32, is_shared=True),\n",
              "        chosen_action_value: Tensor(shape=torch.Size([1]), device=cuda:0, dtype=torch.float32, is_shared=True),\n",
              "        done: Tensor(shape=torch.Size([1]), device=cuda:0, dtype=torch.bool, is_shared=True),\n",
              "        embed: Tensor(shape=torch.Size([128]), device=cuda:0, dtype=torch.float32, is_shared=True),\n",
              "        is_init: Tensor(shape=torch.Size([1]), device=cuda:0, dtype=torch.bool, is_shared=True),\n",
              "        next: TensorDict(\n",
              "            fields={\n",
              "                recurrent_state_c: Tensor(shape=torch.Size([1, 128]), device=cuda:0, dtype=torch.float32, is_shared=True),\n",
              "                recurrent_state_h: Tensor(shape=torch.Size([1, 128]), device=cuda:0, dtype=torch.float32, is_shared=True)},\n",
              "            batch_size=torch.Size([]),\n",
              "            device=cuda:0,\n",
              "            is_shared=True),\n",
              "        observation: Tensor(shape=torch.Size([4]), device=cuda:0, dtype=torch.float32, is_shared=True),\n",
              "        pixels: Tensor(shape=torch.Size([1, 84, 84]), device=cuda:0, dtype=torch.float32, is_shared=True),\n",
              "        recurrent_state_c: Tensor(shape=torch.Size([1, 128]), device=cuda:0, dtype=torch.float32, is_shared=True),\n",
              "        recurrent_state_h: Tensor(shape=torch.Size([1, 128]), device=cuda:0, dtype=torch.float32, is_shared=True),\n",
              "        step_count: Tensor(shape=torch.Size([1]), device=cuda:0, dtype=torch.int64, is_shared=True),\n",
              "        terminated: Tensor(shape=torch.Size([1]), device=cuda:0, dtype=torch.bool, is_shared=True),\n",
              "        truncated: Tensor(shape=torch.Size([1]), device=cuda:0, dtype=torch.bool, is_shared=True)},\n",
              "    batch_size=torch.Size([]),\n",
              "    device=cuda:0,\n",
              "    is_shared=True)"
            ]
          },
          "metadata": {},
          "execution_count": 22
        }
      ],
      "source": [
        "policy(env.reset())"
      ]
    },
    {
      "cell_type": "code",
      "execution_count": 23,
      "metadata": {
        "id": "MwzcBadvsFVI"
      },
      "outputs": [],
      "source": [
        "loss_fn = DQNLoss(policy, action_space=env.action_spec, delay_value=True)"
      ]
    },
    {
      "cell_type": "code",
      "execution_count": 24,
      "metadata": {
        "id": "TYkBQ4q3sFVI"
      },
      "outputs": [],
      "source": [
        "updater = SoftUpdate(loss_fn, eps=0.95)"
      ]
    },
    {
      "cell_type": "code",
      "execution_count": 25,
      "metadata": {
        "id": "udwazIG9sFVI"
      },
      "outputs": [],
      "source": [
        "optim = torch.optim.Adam(policy.parameters(), lr=3e-4)"
      ]
    },
    {
      "cell_type": "code",
      "execution_count": 38,
      "metadata": {
        "id": "6_KN65TAsFVI"
      },
      "outputs": [],
      "source": [
        "collector = SyncDataCollector(env, stoch_policy, frames_per_batch=50, total_frames=200)\n",
        "rb = TensorDictReplayBuffer(\n",
        "    storage=LazyMemmapStorage(1_000_000), batch_size=4, prefetch=10\n",
        ")"
      ]
    },
    {
      "cell_type": "code",
      "execution_count": 39,
      "metadata": {
        "id": "1xpsu30SsFVJ",
        "outputId": "828b2a23-2e88-4807-8b33-e24235c31c0e",
        "colab": {
          "base_uri": "https://localhost:8080/"
        }
      },
      "outputs": [
        {
          "output_type": "stream",
          "name": "stderr",
          "text": [
            "steps: 46, loss_val:  0.0128, action_spread: tensor([10, 40], device='cuda:0'):   1%|          | 6000/1000000 [07:09<19:45:26, 13.98it/s]\n",
            " 25%|██▌       | 50/200 [00:00<00:01, 128.65it/s]"
          ]
        },
        {
          "output_type": "stream",
          "name": "stdout",
          "text": [
            "Let us print the first batch of data.\n",
            "Pay attention to the key names which will reflect what can be found in this data structure, in particular: the output of the QValueModule (action_values, action and chosen_action_value),the 'is_init' key that will tell us if a step is initial or not, and the recurrent_state keys.\n",
            " TensorDict(\n",
            "    fields={\n",
            "        action: Tensor(shape=torch.Size([50, 2]), device=cuda:0, dtype=torch.int64, is_shared=True),\n",
            "        action_value: Tensor(shape=torch.Size([50, 2]), device=cuda:0, dtype=torch.float32, is_shared=True),\n",
            "        chosen_action_value: Tensor(shape=torch.Size([50, 1]), device=cuda:0, dtype=torch.float32, is_shared=True),\n",
            "        collector: TensorDict(\n",
            "            fields={\n",
            "                traj_ids: Tensor(shape=torch.Size([50]), device=cpu, dtype=torch.int64, is_shared=False)},\n",
            "            batch_size=torch.Size([50]),\n",
            "            device=None,\n",
            "            is_shared=False),\n",
            "        done: Tensor(shape=torch.Size([50, 1]), device=cuda:0, dtype=torch.bool, is_shared=True),\n",
            "        embed: Tensor(shape=torch.Size([50, 128]), device=cuda:0, dtype=torch.float32, is_shared=True),\n",
            "        is_init: Tensor(shape=torch.Size([50, 1]), device=cuda:0, dtype=torch.bool, is_shared=True),\n",
            "        next: TensorDict(\n",
            "            fields={\n",
            "                done: Tensor(shape=torch.Size([50, 1]), device=cuda:0, dtype=torch.bool, is_shared=True),\n",
            "                is_init: Tensor(shape=torch.Size([50, 1]), device=cuda:0, dtype=torch.bool, is_shared=True),\n",
            "                observation: Tensor(shape=torch.Size([50, 4]), device=cuda:0, dtype=torch.float32, is_shared=True),\n",
            "                pixels: Tensor(shape=torch.Size([50, 1, 84, 84]), device=cuda:0, dtype=torch.float32, is_shared=True),\n",
            "                recurrent_state_c: Tensor(shape=torch.Size([50, 1, 128]), device=cuda:0, dtype=torch.float32, is_shared=True),\n",
            "                recurrent_state_h: Tensor(shape=torch.Size([50, 1, 128]), device=cuda:0, dtype=torch.float32, is_shared=True),\n",
            "                reward: Tensor(shape=torch.Size([50, 1]), device=cuda:0, dtype=torch.float32, is_shared=True),\n",
            "                step_count: Tensor(shape=torch.Size([50, 1]), device=cuda:0, dtype=torch.int64, is_shared=True),\n",
            "                terminated: Tensor(shape=torch.Size([50, 1]), device=cuda:0, dtype=torch.bool, is_shared=True),\n",
            "                truncated: Tensor(shape=torch.Size([50, 1]), device=cuda:0, dtype=torch.bool, is_shared=True)},\n",
            "            batch_size=torch.Size([50]),\n",
            "            device=None,\n",
            "            is_shared=False),\n",
            "        observation: Tensor(shape=torch.Size([50, 4]), device=cuda:0, dtype=torch.float32, is_shared=True),\n",
            "        pixels: Tensor(shape=torch.Size([50, 1, 84, 84]), device=cuda:0, dtype=torch.float32, is_shared=True),\n",
            "        recurrent_state_c: Tensor(shape=torch.Size([50, 1, 128]), device=cuda:0, dtype=torch.float32, is_shared=True),\n",
            "        recurrent_state_h: Tensor(shape=torch.Size([50, 1, 128]), device=cuda:0, dtype=torch.float32, is_shared=True),\n",
            "        step_count: Tensor(shape=torch.Size([50, 1]), device=cuda:0, dtype=torch.int64, is_shared=True),\n",
            "        terminated: Tensor(shape=torch.Size([50, 1]), device=cuda:0, dtype=torch.bool, is_shared=True),\n",
            "        truncated: Tensor(shape=torch.Size([50, 1]), device=cuda:0, dtype=torch.bool, is_shared=True)},\n",
            "    batch_size=torch.Size([50]),\n",
            "    device=None,\n",
            "    is_shared=False)\n"
          ]
        },
        {
          "output_type": "stream",
          "name": "stderr",
          "text": [
            "\rsteps: 18, loss_val:  0.0149, action_spread: tensor([21, 29], device='cuda:0'):  25%|██▌       | 50/200 [00:03<00:01, 128.65it/s]/usr/local/lib/python3.10/dist-packages/gym/envs/classic_control/cartpole.py:179: UserWarning: \u001b[33mWARN: You are calling 'step()' even though this environment has already returned terminated = True. You should always call 'reset()' once you receive 'terminated = True' -- any further steps are undefined behavior.\u001b[0m\n",
            "  logger.warn(\n",
            "steps: 28, loss_val:  0.0168, action_spread: tensor([19, 31], device='cuda:0'): 100%|██████████| 200/200 [00:12<00:00, 18.23it/s]"
          ]
        }
      ],
      "source": [
        "utd = 16\n",
        "pbar = tqdm.tqdm(total=collector.total_frames)\n",
        "longest = 0\n",
        "\n",
        "traj_lens = []\n",
        "for i, data in enumerate(collector):\n",
        "    if i == 0:\n",
        "        print(\n",
        "            \"Let us print the first batch of data.\\nPay attention to the key names \"\n",
        "            \"which will reflect what can be found in this data structure, in particular: \"\n",
        "            \"the output of the QValueModule (action_values, action and chosen_action_value),\"\n",
        "            \"the 'is_init' key that will tell us if a step is initial or not, and the \"\n",
        "            \"recurrent_state keys.\\n\",\n",
        "            data,\n",
        "        )\n",
        "    pbar.update(data.numel())\n",
        "    # it is important to pass data that is not flattened\n",
        "    rb.extend(data.unsqueeze(0).to_tensordict().cpu())\n",
        "    for _ in range(utd):\n",
        "        s = rb.sample().to(device, non_blocking=True)\n",
        "        loss_vals = loss_fn(s)\n",
        "        loss_vals[\"loss\"].backward()\n",
        "        optim.step()\n",
        "        optim.zero_grad()\n",
        "    longest = max(longest, data[\"step_count\"].max().item())\n",
        "    pbar.set_description(\n",
        "        f\"steps: {longest}, loss_val: {loss_vals['loss'].item(): 4.4f}, action_spread: {data['action'].sum(0)}\"\n",
        "    )\n",
        "    exploration_module.step(data.numel())\n",
        "    updater.step()\n",
        "\n",
        "    with set_exploration_type(ExplorationType.DETERMINISTIC), torch.no_grad():\n",
        "        rollout = env.rollout(10000, stoch_policy)\n",
        "        traj_lens.append(rollout.get((\"next\", \"step_count\")).max().item())"
      ]
    },
    {
      "cell_type": "code",
      "execution_count": 40,
      "metadata": {
        "id": "mkc8Tu__sFVJ",
        "outputId": "6117d646-814d-4d93-af69-2d1eab9c64be",
        "colab": {
          "base_uri": "https://localhost:8080/",
          "height": 472
        }
      },
      "outputs": [
        {
          "output_type": "display_data",
          "data": {
            "text/plain": [
              "<Figure size 640x480 with 1 Axes>"
            ],
            "image/png": "[encoded data removed]"
          },
          "metadata": {}
        }
      ],
      "source": [
        "if traj_lens:\n",
        "    from matplotlib import pyplot as plt\n",
        "\n",
        "    plt.plot(traj_lens)\n",
        "    plt.xlabel(\"Test collection\")\n",
        "    plt.title(\"Test trajectory lengths\")"
      ]
    }
  ],
  "metadata": {
    "kernelspec": {
      "display_name": "Python 3",
      "name": "python3"
    },
    "language_info": {
      "codemirror_mode": {
        "name": "ipython",
        "version": 3
      },
      "file_extension": ".py",
      "mimetype": "text/x-python",
      "name": "python",
      "nbconvert_exporter": "python",
      "pygments_lexer": "ipython3",
      "version": "3.12.7"
    },
    "colab": {
      "provenance": [],
      "toc_visible": true,
      "gpuType": "T4"
    },
    "accelerator": "GPU"
  },
  "nbformat": 4,
  "nbformat_minor": 0
}